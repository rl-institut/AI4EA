{
 "cells": [
  {
   "cell_type": "markdown",
   "id": "509890b8-d36f-40c5-906e-322203cc4ca3",
   "metadata": {},
   "source": [
    "# Analysis of the generated daily averaged profiles\n",
    "\n",
    "In this notebook you will see how to plot the averaged daily profiles generated with RAMP and how to analyse the clustering provided by the ML model output. Additionally the profiles per estimated household number will be calculated using ML model output."
   ]
  },
  {
   "cell_type": "code",
   "execution_count": null,
   "id": "77eceed0-06f8-41e5-a87d-794dcdfa62f9",
   "metadata": {},
   "outputs": [],
   "source": [
    "import os\n",
    "import re\n",
    "import ast\n",
    "import pandas as pd\n",
    "import matplotlib.pyplot as plt\n",
    "country_iso = \"\"\n",
    "\n",
    "if country_iso == \"\":\n",
    "    print(\"! --- Please provide a country iso3 --- !\")"
   ]
  },
  {
   "cell_type": "markdown",
   "id": "87ae829d-0e9a-4b2f-af14-73573a48de43",
   "metadata": {},
   "source": [
    "## Convert ML output from geojson file to csv\n",
    "\n",
    "This step is only applicable if the provided output of the ML model is in geojson format, you can skip it otherwise"
   ]
  },
  {
   "cell_type": "code",
   "execution_count": null,
   "id": "1c2e4517-122e-4651-8ff3-bcdcf0f178d2",
   "metadata": {},
   "outputs": [],
   "source": [
    "from generate_demand_profiles import prepare_appliance_count\n",
    "prepare_appliance_count(country_iso)\n"
   ]
  },
  {
   "cell_type": "markdown",
   "id": "2fda42a4-9fbe-47c4-b89b-641b75eec4e5",
   "metadata": {},
   "source": [
    "## Load the ML model data \n",
    "\n",
    "Here the user should load the output file from the ML model which provides the average number of appliances for household in each \"admin2\" region for the following appliances: Air conditioner, Air cooler, Electric cooker, Electric room heater, Electric water heater, Fan, Fridge, Home mechanical appliances (e.g., Mixer, Blender), Home thermal appliances (e.g., Kettle, Iron), Laptop / Computer, Light bulb, Mobile phone charger, Radio, Rice cooker, Sewing machine, Television and Washing machine. It contains also 2 columns labeled \"cluster\" and \"num_hh\".  The \"cluster\" column contains a cluster integer number between 0 and 2 mapping the region to a cluster found out by the ML model. The \"num_hh\" column contains the estimated number of housholds in the \"admin2\" region."
   ]
  },
  {
   "cell_type": "code",
   "execution_count": null,
   "id": "0a95c5c1-a3d5-4207-8049-419b4a6a7392",
   "metadata": {},
   "outputs": [],
   "source": [
    "ml_appliance_count_file = f\"{country_iso}_appliance_count.csv\"  # This file contains the output of the ML model\n",
    "adm1_col_name = \"adm1\"\n",
    "adm2_col_name = \"shapeName\"\n",
    "\n",
    "simulation_files_prefix = f\"{country_iso}_all_intermediate\"\n",
    "simulation_files_prefix_avg = f\"{country_iso}_all_intermediate_avg\" # daily load profile averaged over one year\n",
    "simulation_result_folder =  f\"simulation_data_{country_iso}\"\n",
    "\n",
    "df_ai = pd.read_csv(ml_appliance_count_file)\n",
    "df_ai"
   ]
  },
  {
   "cell_type": "markdown",
   "id": "268f144f-9035-4623-88c1-da7d5c2af067",
   "metadata": {},
   "source": [
    "# Generate the demand load profiles\n",
    "\n",
    "Here the values in the column `unified_names` from file `ramp_config/Household_template.csv` should match the column headers of all columns providing appliance count in the file `ml_appliance_count_file` defined in the cell above. The RAMP code should use the version located at https://github.com/RAMP-project/RAMP/tree/feature/loaddata_frame. The file `ramp_config/Household_template.csv` contains the time of use of the appliances used during the PeopleSun project (https://www.peoplesun.org/).\n",
    "\n",
    "If you want to modify the time-of-use window of a given appliance you can use your own template as long as the `unified_names` column remains unmodified.\n",
    "\n",
    "*NB*: It is recommended to generate the demand profiles with a script rather that within the notebook as it can be a lengthy process depending on the number of admin2 regions. You can simply run "
   ]
  },
  {
   "cell_type": "code",
   "execution_count": null,
   "id": "1791e5b2-9797-464a-92e5-2fe18d4f986f",
   "metadata": {},
   "outputs": [],
   "source": [
    "from generate_demand_profiles import process_household_data\n",
    "\n",
    "if adm1_col_name not in df_ai.columns:\n",
    "    df_ai[adm1_col_name] = \"dummy\"\n",
    "\n",
    "\n",
    "\n",
    "process_household_data(\n",
    "    df_ai,\n",
    "    adm1_col=adm1_col_name,\n",
    "    adm2_col=adm2_col_name,\n",
    "    ramp_template_path=\"ramp_config/Household_template.csv\",\n",
    "    output_prefix=simulation_files_prefix,\n",
    "    output_dir=simulation_result_folder,\n",
    ")"
   ]
  },
  {
   "cell_type": "markdown",
   "id": "5d1a0252-d3a3-44ee-b255-a696e28302a5",
   "metadata": {},
   "source": [
    "## Collect the simulation output files\n",
    "\n",
    "Search in the provided folder all files corresponding to the daily averaged profile"
   ]
  },
  {
   "cell_type": "code",
   "execution_count": null,
   "id": "b515e46d-73c0-4b3e-b594-817ab6bc88f7",
   "metadata": {},
   "outputs": [],
   "source": [
    "from analyse_demand_profiles import collect_profiles_path\n",
    "sorted_files = collect_profiles_path(folder=simulation_result_folder, output_prefix=simulation_files_prefix_avg)\n",
    "sorted_files"
   ]
  },
  {
   "cell_type": "markdown",
   "id": "7612415b-0bac-4975-a32d-ac11a8f62849",
   "metadata": {},
   "source": [
    "## Merge the simulated profiles in one dataframe"
   ]
  },
  {
   "cell_type": "code",
   "execution_count": null,
   "id": "62a0b533-7db3-4b3c-94cd-7bf27f318b1e",
   "metadata": {},
   "outputs": [],
   "source": [
    "# Read and merge DataFrames on index\n",
    "merged_df = pd.DataFrame()\n",
    "\n",
    "for file_path in sorted_files:\n",
    "    df = pd.read_csv(file_path, index_col=0)  # use index from file\n",
    "    if merged_df.empty:\n",
    "        merged_df = df\n",
    "    else:\n",
    "        merged_df = merged_df.join(df, how='outer')  # or 'inner' if strict alignment needed\n",
    "\n",
    "print(merged_df.head())\n",
    "daily_averaged_profiles = merged_df"
   ]
  },
  {
   "cell_type": "markdown",
   "id": "a3dee432-d417-451d-8f80-551579d2fe78",
   "metadata": {},
   "source": [
    "## Figure of daily averaged profiles for each region"
   ]
  },
  {
   "cell_type": "code",
   "execution_count": null,
   "id": "4172b40e-4a1e-4166-8d06-8ef2ffd57c2d",
   "metadata": {},
   "outputs": [],
   "source": [
    "ax=daily_averaged_profiles.plot(legend=False, ylabel=\"Power W\",xlabel=\"Hours of the day\",title=f\"All RAMP daily averaged profiles for {country_iso}\")\n",
    "ax.set_xticks([0, 240, 480, (60 * 12), (60 * 16), (60 * 20), (60 * 24)])\n",
    "ax.set_xticklabels([0, 4, 8, 12, 16, 20, 24])"
   ]
  },
  {
   "cell_type": "markdown",
   "id": "67a26e9f-9531-488a-9a28-0fe626aab589",
   "metadata": {},
   "source": [
    "## Divide each admin2 region's profile by the estimated number of households within the area"
   ]
  },
  {
   "cell_type": "code",
   "execution_count": null,
   "id": "48abea4e-a441-44fd-9e41-b447a173b95b",
   "metadata": {},
   "outputs": [],
   "source": [
    "normalized_profiles = daily_averaged_profiles.copy()\n",
    "for region in normalized_profiles.columns:\n",
    "    adm2, adm1 = ast.literal_eval(region)\n",
    "    normalized_profiles[region] = merged_df[region] / df_ai.loc[(df_ai.shapeName == adm2) & (df_ai.adm1 == adm1), \"num_hh\"].values[0]"
   ]
  },
  {
   "cell_type": "markdown",
   "id": "b65ed237-c15b-4e06-92fb-a9fd4d9e6983",
   "metadata": {},
   "source": [
    "## Figure of daily averaged profiles per household for each region"
   ]
  },
  {
   "cell_type": "code",
   "execution_count": null,
   "id": "35181337-4866-4f12-b82c-204491bfc221",
   "metadata": {},
   "outputs": [],
   "source": [
    "ax=normalized_profiles.plot(legend=False, ylabel=\"Power W\",xlabel=\"Hours of the day\",title=f\"All RAMP daily averaged profiles per household for {country_iso}\")\n",
    "ax.set_xticks([0, 240, 480, (60 * 12), (60 * 16), (60 * 20), (60 * 24)])\n",
    "ax.set_xticklabels([0, 4, 8, 12, 16, 20, 24])"
   ]
  },
  {
   "cell_type": "code",
   "execution_count": null,
   "id": "047f5636-76ee-4c59-9830-6ccbaad2048f",
   "metadata": {},
   "outputs": [],
   "source": [
    "fig = ax.get_figure()\n",
    "fig.savefig(f\"All_profiles_{country_iso}.png\")"
   ]
  },
  {
   "cell_type": "markdown",
   "id": "8d17d44a-0186-4caa-bd26-c25215d9f2fe",
   "metadata": {},
   "source": [
    "## Figure grouping the profiles per cluster_num\n",
    "\n",
    "The ML algorithm has clustered the region into up to 3 cluster, this figure shows"
   ]
  },
  {
   "cell_type": "code",
   "execution_count": null,
   "id": "f7a97f84-3af6-4255-8002-cef583883b84",
   "metadata": {},
   "outputs": [],
   "source": [
    "fig,axes = plt.subplots(1,3,figsize=(14, 7), sharey=True)\n",
    "\n",
    "colors = ['#56B4E9', '#E69F00', '#009E73']\n",
    "\n",
    "\n",
    "for cluster_num, color in zip([0,1,2],colors):\n",
    "    temp = df_ai.loc[df_ai.cluster == cluster_num,[adm2_col_name,adm1_col_name]]\n",
    "    print(f\"{len(temp)} clusters with cluster num = {cluster_num}\")\n",
    "    if temp.empty is False:\n",
    "        keys = []\n",
    "        for adm2, adm1 in zip(temp.shapeName, temp.adm1):\n",
    "            keys.append(str((adm2, adm1)))\n",
    "        normalized_profiles[keys].plot(\n",
    "            ax=axes[cluster_num], \n",
    "            legend=False,\n",
    "            color=color,\n",
    "            ylabel=\"Power W\",\n",
    "            title=f\"Cluster num={cluster_num}\"\n",
    "        )\n",
    "\n",
    "\n",
    "for ax in axes:\n",
    "    ax.set_xticks([0, 240, 480, (60 * 12), (60 * 16), (60 * 20), (60 * 24)])\n",
    "    ax.set_xticklabels([0, 4, 8, 12, 16, 20, 24])\n",
    "axes[1].set_xlabel(\"Hours of the day\")\n",
    "\n",
    "\n"
   ]
  },
  {
   "cell_type": "code",
   "execution_count": null,
   "id": "f6e82bc0-fbdb-49af-971d-980b77c1697d",
   "metadata": {},
   "outputs": [],
   "source": [
    "fig.savefig(f\"cluster_comparison_{country_iso}.png\")"
   ]
  },
  {
   "cell_type": "markdown",
   "id": "90ea9213-d9d8-4da6-aa95-21cf7911fa25",
   "metadata": {},
   "source": [
    "## Compute indicators\n",
    "\n",
    "here the adm1_col and adm2_col arguments should match the column name of the admin 1 level names and admin 2 level names within the ML output file, expected to be named like \"{country_iso}_appliance_count.csv\". As the operation can take some time for countries with large number of regions, the indicators results are stored into a file \"{country_iso}_demand_profile_stats.csv\" for convenience."
   ]
  },
  {
   "cell_type": "code",
   "execution_count": null,
   "id": "c169aed5-6b9c-4b0a-9eb3-7567d4f75353",
   "metadata": {},
   "outputs": [],
   "source": [
    "from analyse_demand_profiles import post_process, bind_geometry\n",
    "\n",
    "stats_df = post_process(\n",
    "    simulation_result_folder,\n",
    "    output_prefix=simulation_files_prefix,\n",
    "    adm1_col=adm1_col_name,\n",
    "    adm2_col=adm2_col_name,\n",
    "    output_fname=f\"{country_iso}_demand_profile_stats.csv\",\n",
    "    ml_output_path=ml_appliance_count_file\n",
    ")"
   ]
  },
  {
   "cell_type": "markdown",
   "id": "d8c72264-3923-4f02-8f71-cae39e7aaccc",
   "metadata": {},
   "source": [
    "## Assign geometry shapes to each region from external source\n",
    "\n",
    "If the user would like to display the results on a map, they can provide a geojson or shape files. The demand profiles will be matched to the regions. At this step, they can by mismatch between profiles and geometries caused by different numbers of regions or different name formats (FR vs EN for example) for the regions.\n",
    "\n",
    "In case of different names, one should provide a mapping between the admin 2 region names provided within the output of ML model and the user provided geojson or shape files."
   ]
  },
  {
   "cell_type": "code",
   "execution_count": null,
   "id": "3de5feab-9958-4a73-9e45-97daeecff782",
   "metadata": {},
   "outputs": [],
   "source": [
    "stats_gdf = bind_geometry(\n",
    "    stats_df, \n",
    "    geojson_shapes=\"geoBoundaries-NER-ADM2.geojson\", \n",
    "    adm1_col=None, \n",
    "    adm2_col=adm2_col_name, # default admin 2 level region names from ML model (geoBoundaries)\n",
    "    adm1_col_geom=None, \n",
    "    adm2_col_geom=\"shapeName\"  # Here provide the name of the column containing admin 2 level region names from your source\n",
    ")"
   ]
  },
  {
   "cell_type": "markdown",
   "id": "42dbc568-47d3-462d-8f1d-9dac88332e43",
   "metadata": {},
   "source": [
    "# Exporting data for further use in a webmap\n",
    "\n",
    "The code to a webmap is available under https://github.com/rl-institut/AI4EA/tree/webmap. This code require some data to visualize which can be generated in the next two cells\n",
    "\n",
    "## Save indicators to a geojson "
   ]
  },
  {
   "cell_type": "code",
   "execution_count": null,
   "id": "cd3b3b76-5b61-4347-bdeb-5d43f0f49ddb",
   "metadata": {},
   "outputs": [],
   "source": [
    "stats_gdf.to_file(f\"{country_iso}_stats.geojson\", driver=\"GeoJSON\")"
   ]
  },
  {
   "cell_type": "markdown",
   "id": "b84a07ea-3ada-4b9c-9ee5-8341623c8c98",
   "metadata": {},
   "source": [
    "## Save timeseries to a netcdf file\n",
    "\n",
    "**Caution** for large number of timeseries, this operation can exceed your RAM"
   ]
  },
  {
   "cell_type": "code",
   "execution_count": null,
   "id": "3820cd3b-4a27-409e-9687-8f7e3580ad27",
   "metadata": {},
   "outputs": [],
   "source": [
    "# Full year example: 2024 (leap year)\n",
    "start = '2024-01-01 00:00'\n",
    "end = '2024-01-01 23:59'\n",
    "\n",
    "# Create datetime index at 1-minute frequency\n",
    "time = pd.date_range(start=start, end=end, freq='min')\n",
    "\n",
    "merged_df.index = time\n",
    "ds = merged_df.stack().reset_index()\n",
    "ds.columns = ['time', 'location', 'value']\n",
    "xr_ds = ds.set_index(['location', 'time']).to_xarray()\n",
    "print(f\"Will occupy {xr_ds.nbytes/1e6} MB\")\n",
    "xr_ds.to_netcdf(f\"{country_iso}_timeseries_daily_avg.nc\")\n",
    "\n",
    "    \n"
   ]
  },
  {
   "cell_type": "markdown",
   "id": "63231b4e-aabe-4965-929c-1e1d67c9a3e7",
   "metadata": {},
   "source": [
    "## Analysis RAMP profiles indicator on a map\n"
   ]
  },
  {
   "cell_type": "code",
   "execution_count": null,
   "id": "1bc47509-ce2a-43c4-a396-431baa05ed9c",
   "metadata": {},
   "outputs": [],
   "source": [
    "def highlight_outliers(df, gdf, col,num_outliers=10,ascending=False):\n",
    "    outliers = df.reset_index().sort_values(by=col, ascending=ascending).iloc[:num_outliers]\n",
    "    print(outliers[[adm2_col_name, adm1_col_name, col]])\n",
    "    outliers = outliers[[adm2_col_name, adm1_col_name]]\n",
    "    single_location = gdf[(gdf[adm2_col_name].isin(outliers[adm2_col_name])) & (gdf[adm1_col_name].isin(outliers[adm1_col_name]))]\n",
    "    ax = gdf.plot()\n",
    "    ax = single_location.plot(ax=ax, color='none', edgecolor='red', linewidth=2)\n",
    "    return ax\n",
    "\n",
    "def highlight_upper_outliers(df, gdf, col,num_outliers=10):\n",
    "    return highlight_outliers(df, gdf, col, num_outliers=num_outliers, ascending=False)\n",
    "\n",
    "def highlight_lower_outliers(df, gdf, col,num_outliers=10):\n",
    "    return highlight_outliers(df, gdf, col, num_outliers=num_outliers, ascending=True)\n",
    "\n",
    "gdf = stats_gdf.to_crs(epsg=3857)\n",
    "\n",
    "\n",
    "def make_chloropleth_map(gdf, col):\n",
    "    fig, ax = plt.subplots(figsize=(10, 10))\n",
    "    gdf.plot(\n",
    "        column=col,\n",
    "        cmap='OrRd',\n",
    "        linewidth=0.8,\n",
    "        edgecolor='0.8',\n",
    "        legend=True,\n",
    "        ax=ax\n",
    "    )\n",
    "    \n",
    "    # Style\n",
    "    plt.title(f\"Choropleth Map of {col}\")\n",
    "    plt.axis('off')\n"
   ]
  },
  {
   "cell_type": "markdown",
   "id": "11608bc6-6b84-4f86-9a3a-d0c3b9b4ec0a",
   "metadata": {},
   "source": [
    "## Look at the estimated household numbers"
   ]
  },
  {
   "cell_type": "code",
   "execution_count": null,
   "id": "dc954c6a-d9a2-43c3-b7fc-13dcaec67c8d",
   "metadata": {},
   "outputs": [],
   "source": [
    "make_chloropleth_map(gdf, \"num_hh\")"
   ]
  },
  {
   "cell_type": "markdown",
   "id": "8c5e2be6-ba6e-48a3-b27d-0f540d0929db",
   "metadata": {},
   "source": [
    "## Look at the cluster from the ML model"
   ]
  },
  {
   "cell_type": "code",
   "execution_count": null,
   "id": "67a9db98-4130-4842-85f8-9ca379ad146c",
   "metadata": {},
   "outputs": [],
   "source": [
    "col = \"cluster\"\n",
    "fig, ax = plt.subplots(figsize=(10, 10))\n",
    "gdf.plot(\n",
    "    column=col,\n",
    "    categorical=True,\n",
    "    linewidth=0.8,\n",
    "    edgecolor='0.8',\n",
    "    legend=True,\n",
    "    ax=ax\n",
    ")\n",
    "\n",
    "plt.title(f\"Map of {col}\")\n",
    "plt.axis('off')"
   ]
  },
  {
   "cell_type": "markdown",
   "id": "c5f3d8b8-705d-48ac-bec1-f9b79c64646d",
   "metadata": {},
   "source": [
    "## Look at the indicators on a map"
   ]
  },
  {
   "cell_type": "code",
   "execution_count": null,
   "id": "4d984532-5570-4980-87ab-7a4016aa6faf",
   "metadata": {},
   "outputs": [],
   "source": [
    "make_chloropleth_map(gdf, \"hh_mean\")"
   ]
  },
  {
   "cell_type": "code",
   "execution_count": null,
   "id": "92a99270-35ff-4bfd-8408-3bbc898f29c7",
   "metadata": {},
   "outputs": [],
   "source": [
    "make_chloropleth_map(gdf, \"mean\")"
   ]
  },
  {
   "cell_type": "code",
   "execution_count": null,
   "id": "ddab9604-54fb-46f4-8d6b-e3485bdd4869",
   "metadata": {},
   "outputs": [],
   "source": [
    "highlight_upper_outliers(stats_df,gdf.reset_index(),\"hh_mean\")"
   ]
  },
  {
   "cell_type": "code",
   "execution_count": null,
   "id": "dd8046a4-be15-4649-a64d-d6513d9256b4",
   "metadata": {},
   "outputs": [],
   "source": [
    "highlight_lower_outliers(stats_df,gdf.reset_index(),\"hh_mean\")"
   ]
  },
  {
   "cell_type": "code",
   "execution_count": null,
   "id": "57468f1e-9f38-4031-9732-c7ad0ad0a62d",
   "metadata": {},
   "outputs": [],
   "source": [
    "make_chloropleth_map(gdf, \"hh_max\")"
   ]
  },
  {
   "cell_type": "code",
   "execution_count": null,
   "id": "b081c097-f79d-4cad-80ee-e37d3a7565e7",
   "metadata": {},
   "outputs": [],
   "source": [
    "make_chloropleth_map(gdf, \"max\")"
   ]
  },
  {
   "cell_type": "code",
   "execution_count": null,
   "id": "c31d0769-2ee8-47b0-b1ce-2e263e768c83",
   "metadata": {},
   "outputs": [],
   "source": [
    "highlight_upper_outliers(stats_df,gdf.reset_index(),\"hh_max\")"
   ]
  },
  {
   "cell_type": "code",
   "execution_count": null,
   "id": "bfadea86-9703-41ba-a8d0-411f08117526",
   "metadata": {},
   "outputs": [],
   "source": [
    "highlight_upper_outliers(stats_df,gdf.reset_index(),\"max\")"
   ]
  },
  {
   "cell_type": "code",
   "execution_count": null,
   "id": "d97847ab-08da-4cba-b826-4b7e5d17f285",
   "metadata": {},
   "outputs": [],
   "source": [
    "make_chloropleth_map(gdf, \"hh_sum\")"
   ]
  },
  {
   "cell_type": "code",
   "execution_count": null,
   "id": "c2f41d8c-f497-4b33-93a0-7a2478205e81",
   "metadata": {},
   "outputs": [],
   "source": [
    "make_chloropleth_map(gdf, \"sum\")"
   ]
  },
  {
   "cell_type": "code",
   "execution_count": null,
   "id": "dbe0c1c5-f43c-4d6d-8d0c-3cd5fb72f506",
   "metadata": {},
   "outputs": [],
   "source": [
    "make_chloropleth_map(gdf, \"cluster\")"
   ]
  }
 ],
 "metadata": {
  "kernelspec": {
   "display_name": "Python 3 (ipykernel)",
   "language": "python",
   "name": "python3"
  },
  "language_info": {
   "codemirror_mode": {
    "name": "ipython",
    "version": 3
   },
   "file_extension": ".py",
   "mimetype": "text/x-python",
   "name": "python",
   "nbconvert_exporter": "python",
   "pygments_lexer": "ipython3",
   "version": "3.10.12"
  }
 },
 "nbformat": 4,
 "nbformat_minor": 5
}
