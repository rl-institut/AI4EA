{
 "cells": [
  {
   "cell_type": "code",
   "execution_count": null,
   "id": "8ea353a9-a7fd-417b-beca-1d278f1ac6b5",
   "metadata": {},
   "outputs": [],
   "source": [
    "import os\n",
    "import re\n",
    "import ast\n",
    "import pandas as pd\n",
    "import matplotlib.pyplot as plt\n",
    "country_iso = \"\"\n",
    "\n",
    "if country_iso == \"\":\n",
    "    print(\"Please provide a country iso3\")"
   ]
  },
  {
   "cell_type": "code",
   "execution_count": null,
   "id": "1c2e4517-122e-4651-8ff3-bcdcf0f178d2",
   "metadata": {},
   "outputs": [],
   "source": [
    "from generate_demand_profiles import prepare_appliance_count\n",
    "prepare_appliance_count(country_iso)\n"
   ]
  },
  {
   "cell_type": "markdown",
   "id": "5d1a0252-d3a3-44ee-b255-a696e28302a5",
   "metadata": {},
   "source": [
    "## Collect the simulation output files"
   ]
  },
  {
   "cell_type": "code",
   "execution_count": null,
   "id": "b515e46d-73c0-4b3e-b594-817ab6bc88f7",
   "metadata": {},
   "outputs": [],
   "source": [
    "from post_process import collect_profiles_path\n",
    "sorted_files = collect_profiles_path(folder=f\"simulation_data_{country_iso}\", output_prefix=f\"{country_iso}_all_intermediate_avg\")\n",
    "sorted_files"
   ]
  },
  {
   "cell_type": "markdown",
   "id": "2fda42a4-9fbe-47c4-b89b-641b75eec4e5",
   "metadata": {},
   "source": [
    "## Load the AI model data"
   ]
  },
  {
   "cell_type": "code",
   "execution_count": null,
   "id": "0a95c5c1-a3d5-4207-8049-419b4a6a7392",
   "metadata": {},
   "outputs": [],
   "source": [
    "df_ai = pd.read_csv(f\"{country_iso}_appliance_count.csv\")\n",
    "df_ai"
   ]
  },
  {
   "cell_type": "markdown",
   "id": "7612415b-0bac-4975-a32d-ac11a8f62849",
   "metadata": {},
   "source": [
    "## Merge the simulated profiles in one dataframe"
   ]
  },
  {
   "cell_type": "code",
   "execution_count": null,
   "id": "62a0b533-7db3-4b3c-94cd-7bf27f318b1e",
   "metadata": {},
   "outputs": [],
   "source": [
    "# Read and merge DataFrames on index\n",
    "merged_df = pd.DataFrame()\n",
    "\n",
    "for file_path in sorted_files:\n",
    "    df = pd.read_csv(file_path, index_col=0)  # use index from file\n",
    "    if merged_df.empty:\n",
    "        merged_df = df\n",
    "    else:\n",
    "        merged_df = merged_df.join(df, how='outer')  # or 'inner' if strict alignment needed\n",
    "\n",
    "print(merged_df.head())"
   ]
  },
  {
   "cell_type": "markdown",
   "id": "67a26e9f-9531-488a-9a28-0fe626aab589",
   "metadata": {},
   "source": [
    "## Divide each lga profile by the number of household within the area"
   ]
  },
  {
   "cell_type": "code",
   "execution_count": null,
   "id": "899e1438-85e6-4658-b750-4674530079f0",
   "metadata": {},
   "outputs": [],
   "source": [
    "normalized_profiles = merged_df.copy()"
   ]
  },
  {
   "cell_type": "code",
   "execution_count": null,
   "id": "48abea4e-a441-44fd-9e41-b447a173b95b",
   "metadata": {},
   "outputs": [],
   "source": [
    "for lga_name in normalized_profiles.columns:\n",
    "    adm2, adm1 = ast.literal_eval(lga_name)\n",
    "    normalized_profiles[lga_name] = merged_df[lga_name] / df_ai.loc[(df_ai.shapeName == adm2) & (df_ai.adm1 == adm1), \"num_hh\"].values[0]"
   ]
  },
  {
   "cell_type": "markdown",
   "id": "b65ed237-c15b-4e06-92fb-a9fd4d9e6983",
   "metadata": {},
   "source": [
    "## Figure of all yearly profiles averaged into one day"
   ]
  },
  {
   "cell_type": "code",
   "execution_count": null,
   "id": "35181337-4866-4f12-b82c-204491bfc221",
   "metadata": {},
   "outputs": [],
   "source": [
    "ax=normalized_profiles.plot(legend=False, ylabel=\"Power W\",xlabel=\"Hours of the day\",title=f\"All RAMP profiles for {country_iso}\")\n",
    "ax.set_xticks([0, 240, 480, (60 * 12), (60 * 16), (60 * 20), (60 * 24)])\n",
    "ax.set_xticklabels([0, 4, 8, 12, 16, 20, 24])"
   ]
  },
  {
   "cell_type": "code",
   "execution_count": null,
   "id": "047f5636-76ee-4c59-9830-6ccbaad2048f",
   "metadata": {},
   "outputs": [],
   "source": [
    "fig = ax.get_figure()\n",
    "fig.savefig(f\"All_profiles_{country_iso}.png\")"
   ]
  },
  {
   "cell_type": "markdown",
   "id": "8d17d44a-0186-4caa-bd26-c25215d9f2fe",
   "metadata": {},
   "source": [
    "## Figure grouping the profiles per cluster_num"
   ]
  },
  {
   "cell_type": "code",
   "execution_count": null,
   "id": "f7a97f84-3af6-4255-8002-cef583883b84",
   "metadata": {},
   "outputs": [],
   "source": [
    "fig,axes = plt.subplots(1,3,figsize=(14, 7), sharey=True)\n",
    "\n",
    "colors = ['#56B4E9', '#E69F00', '#009E73']\n",
    "\n",
    "\n",
    "for cluster_num, color in zip([0,1,2],colors):\n",
    "    temp = df_ai.loc[df_ai.cluster == cluster_num,[\"shapeName\",\"adm1\"]]\n",
    "\n",
    "    keys = []\n",
    "    for adm2, adm1 in zip(temp.shapeName, temp.adm1):\n",
    "        keys.append(str((adm2, adm1)))\n",
    "    normalized_profiles[keys].plot(\n",
    "        ax=axes[cluster_num], \n",
    "        legend=False,\n",
    "        color=color,\n",
    "        ylabel=\"Power W\",\n",
    "        title=f\"Cluster num={cluster_num}\"\n",
    "    )\n",
    "\n",
    "\n",
    "for ax in axes:\n",
    "    ax.set_xticks([0, 240, 480, (60 * 12), (60 * 16), (60 * 20), (60 * 24)])\n",
    "    ax.set_xticklabels([0, 4, 8, 12, 16, 20, 24])\n",
    "axes[1].set_xlabel(\"Hours of the day\")\n",
    "\n",
    "\n"
   ]
  },
  {
   "cell_type": "code",
   "execution_count": null,
   "id": "f6e82bc0-fbdb-49af-971d-980b77c1697d",
   "metadata": {},
   "outputs": [],
   "source": [
    "fig.savefig(f\"cluster_comparison_{country_iso}.png\")"
   ]
  }
 ],
 "metadata": {
  "kernelspec": {
   "display_name": "Python 3 (ipykernel)",
   "language": "python",
   "name": "python3"
  },
  "language_info": {
   "codemirror_mode": {
    "name": "ipython",
    "version": 3
   },
   "file_extension": ".py",
   "mimetype": "text/x-python",
   "name": "python",
   "nbconvert_exporter": "python",
   "pygments_lexer": "ipython3",
   "version": "3.10.12"
  }
 },
 "nbformat": 4,
 "nbformat_minor": 5
}
