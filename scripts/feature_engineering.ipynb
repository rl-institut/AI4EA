{
 "cells": [
  {
   "cell_type": "markdown",
   "metadata": {},
   "source": [
    "\n",
    "\n",
    "**Description** \n",
    "\n",
    "This Jupyter Notebook contains code for feature engineering and then setting up different model experiments. \n",
    "\n",
    "**Author**: Phoebe Ly, Vivek Sakhrani, Isabella Smythe\n",
    "\n",
    "**Last Updated:** 08-MAR-2025\n",
    "\n"
   ]
  },
  {
   "cell_type": "code",
   "execution_count": null,
   "metadata": {},
   "outputs": [],
   "source": [
    "import pandas as pd\n",
    "import geopandas as gpd\n",
    "import rasterio\n",
    "from rasterstats import zonal_stats\n",
    "from rasterio.features import geometry_window\n",
    "from rasterio.sample import sample_gen\n",
    "import numpy as np\n",
    "import matplotlib.pyplot as plt\n",
    "\n",
    "from sklearn.linear_model import LinearRegression\n",
    "from sklearn.model_selection import train_test_split\n",
    "from sklearn.ensemble import RandomForestRegressor\n",
    "from sklearn.metrics import mean_squared_error, r2_score\n",
    "from sklearn.preprocessing import StandardScaler\n",
    "from sklearn.multioutput import MultiOutputRegressor\n",
    "\n"
   ]
  },
  {
   "cell_type": "code",
   "execution_count": null,
   "metadata": {},
   "outputs": [],
   "source": [
    "# Create buffer around HH points\n",
    "peoplesun_hhapps_anon = pd.read_csv('gs://ads-lacuna-ai4ea/data/dataverse/peoplesun_hhapps_anon.csv') #Make sure data source\n",
    "eaidgeokey_hh = gpd.read_file('egs://ads-lacuna-ai4ea/data/aidgeokey_hh.geojson')\n",
    "eaidgeokey_hh['point'] = eaidgeokey_hh['geometry'] \n",
    "eaidgeokey_hh['geometry'] = eaidgeokey_hh.to_crs(3857)['geometry'].buffer(2000) #change buffer size if necessary\n",
    "\n",
    "#Subset df to important variables\n",
    "df_sub = eaidgeokey_hh[['hhid', 'zone', 'state', 'lga', 'settlement', 'point', '_geo_latitude', '_geo_longitude', 'geometry']]\n",
    "df_sub = df_sub.to_crs(4326)"
   ]
  },
  {
   "cell_type": "markdown",
   "metadata": {},
   "source": [
    "### Feature engineering"
   ]
  },
  {
   "cell_type": "code",
   "execution_count": null,
   "metadata": {},
   "outputs": [],
   "source": [
    "#Zonal statistics function\n",
    "\n",
    "def zonal_calc(raster_file_path, touched, agg, col_name, df):\n",
    "    with rasterio.open(raster_file_path) as src:\n",
    "        affine = src.transform\n",
    "        raster_data = src.read(1)\n",
    "\n",
    "    with rasterio.open(raster_file_path) as src:\n",
    "        # Prepare to store zonal stats for each geometry\n",
    "        agg_values = []\n",
    "        \n",
    "        # Process each geometry individually to avoid memory issues\n",
    "        for geom in df_sub.geometry:\n",
    "            # Calculate a window around the geometry to avoid loading the full raster\n",
    "            window = geometry_window(src, [geom])\n",
    "            \n",
    "            # Read only the data in the window\n",
    "            raster_data = src.read(1, window=window)\n",
    "            \n",
    "            # Calculate zonal stats for the geometry on the windowed raster data\n",
    "            stats = zonal_stats(\n",
    "                [geom],\n",
    "                raster_data,\n",
    "                affine=src.window_transform(window),\n",
    "                stats=[agg],\n",
    "                nodata=-99999,\n",
    "                all_touched=touched\n",
    "            )\n",
    "            \n",
    "            # Append the sum result for this geometry\n",
    "            agg_values.append(stats[0][agg])\n",
    "\n",
    "        df[col_name] = agg_values\n",
    "    return df\n"
   ]
  },
  {
   "cell_type": "code",
   "execution_count": null,
   "metadata": {},
   "outputs": [],
   "source": [
    "#Population\n",
    "\n",
    "raster_file_path = 'gs://ads-lacuna-ai4ea/data/rasters/population_buffer_clip.tif'\n",
    "touched = True #specify pixel condition\n",
    "agg = \"sum\"\n",
    "col_name = 'tot_population'\n",
    "df_sub = zonal_calc(raster_file_path, touched, agg, col_name, df_sub)"
   ]
  },
  {
   "cell_type": "code",
   "execution_count": null,
   "metadata": {},
   "outputs": [],
   "source": [
    "# Temperature\n",
    "\n",
    "raster_file_path = 'gs://ads-lacuna-ai4ea/data/rasters/temperature_merge.tif'\n",
    "touched = True #specify pixel condition\n",
    "agg = \"median\"\n",
    "col_name = 'med_temperature'\n",
    "df_sub = zonal_calc(raster_file_path, touched, agg, col_name, df_sub)"
   ]
  },
  {
   "cell_type": "code",
   "execution_count": null,
   "metadata": {},
   "outputs": [],
   "source": [
    "# Precipitation\n",
    "\n",
    "raster_file_path = 'gs://ads-lacuna-ai4ea/data/rasters/precipitation_merge.tif'\n",
    "touched = True #specify pixel condition\n",
    "agg = \"median\"\n",
    "col_name = 'med_precipitation'\n",
    "df_sub = zonal_calc(raster_file_path, touched, agg, col_name, df_sub)\n"
   ]
  },
  {
   "cell_type": "code",
   "execution_count": null,
   "metadata": {},
   "outputs": [],
   "source": [
    "# AWI\n",
    "\n",
    "raster_file_path = 'gs://ads-lacuna-ai4ea/data/rasters/awi_africa4326.tif'\n",
    "touched = True #specify pixel condition\n",
    "agg = \"median\"\n",
    "col_name = 'med_awi'\n",
    "df_sub = zonal_calc(raster_file_path, touched, agg, col_name, df_sub)"
   ]
  },
  {
   "cell_type": "code",
   "execution_count": null,
   "metadata": {},
   "outputs": [],
   "source": [
    "# Spending\n",
    "\n",
    "raster_file_path = 'gs://ads-lacuna-ai4ea/data/rasters/spending_nga4326.tif'\n",
    "touched = True #specify pixel condition\n",
    "agg = \"median\"\n",
    "col_name = 'med_spending'\n",
    "df_sub = zonal_calc(raster_file_path, touched, agg, col_name, df_sub)"
   ]
  },
  {
   "cell_type": "code",
   "execution_count": null,
   "metadata": {},
   "outputs": [],
   "source": [
    "#URCA #sampling pixel\n",
    "\n",
    "raster_file_path = 'gs://ads-lacuna-ai4ea/data/rasters/Urban-Rural Catchment Areas (URCA).tif'\n",
    "coordinates = [(point.x, point.y) for point in df_sub.point]\n",
    "with rasterio.open(raster_file_path) as src:\n",
    "    sampled_values = list(src.sample(coordinates))\n",
    "\n",
    "df_sub['urca'] = [val[0] for val in sampled_values]\n",
    "\n",
    "df_sub = pd.get_dummies(df_sub, columns=['urca'], prefix='urca') # one hot encode"
   ]
  },
  {
   "cell_type": "code",
   "execution_count": null,
   "metadata": {},
   "outputs": [],
   "source": [
    "#For electrification layer\n",
    "\n",
    "# Define a custom function to count occurrences of value 2\n",
    "def count_value_2(values):\n",
    "    return np.sum(values == 2)\n",
    "\n",
    "# Define a custom function to count total valid pixels (excluding NoData)\n",
    "def count_total_valid(values):\n",
    "    return np.sum(~np.isnan(values))\n"
   ]
  },
  {
   "cell_type": "code",
   "execution_count": null,
   "metadata": {},
   "outputs": [],
   "source": [
    "#Electrification\n",
    "\n",
    "def elec_calc(raster_path, vector_gdf):\n",
    "    print(raster_path) #show that it's looping\n",
    "\n",
    "    with rasterio.open(raster_path) as src:\n",
    "        raster_crs = src.crs\n",
    "        raster_transform = src.transform\n",
    "        raster_nodata = src.nodata\n",
    "        raster_dtype = src.dtypes[0]\n",
    "        raster_shape = (src.height, src.width)\n",
    "        raster_bounds = src.bounds\n",
    "        \n",
    "        if vector_gdf.crs != raster_crs:\n",
    "            vector_gdf = vector_gdf.to_crs(raster_crs)\n",
    "            print(\"Reprojected vector data to match raster CRS.\")\n",
    "\n",
    "        stats = zonal_stats(\n",
    "            vector_gdf,\n",
    "            raster_path,\n",
    "            categorical=True,\n",
    "            nodata=raster_nodata,\n",
    "            geojson_out=False\n",
    "        )\n",
    "\n",
    "        proportions = []\n",
    "        for stat in stats:\n",
    "            count_2 = stat.get(2, 0)  # Get count of value '2'; default to 0 if not present\n",
    "            total_pixels = sum(stat.values())\n",
    "            proportion = count_2 / total_pixels if total_pixels > 0 else np.nan\n",
    "            proportions.append(proportion)\n",
    "\n",
    "        # Add the proportions to the GeoDataFrame\n",
    "        col_name = 'electrification_prop_' + raster_path[46:48]\n",
    "        vector_gdf[col_name] = proportions\n",
    "\n",
    "        return vector_gdf\n"
   ]
  },
  {
   "cell_type": "code",
   "execution_count": null,
   "metadata": {},
   "outputs": [],
   "source": [
    "# Define file paths and calculate electrification proportion\n",
    "\n",
    "date_list = ['01', '02', '03', '04', '05', '06', '07', '08', '09', '10', '11', '12']\n",
    "\n",
    "for date in date_list:\n",
    "    raster_path = 'gs://ads-lacuna-ai4ea/data/rasters/Electrification-1000m_0_9_africa_2021-'+date+'.tif' \n",
    "    df_sub = elec_calc(raster_path, df_sub)\n"
   ]
  },
  {
   "cell_type": "code",
   "execution_count": null,
   "metadata": {},
   "outputs": [],
   "source": [
    "# Checking if electrification status has changed within households (if it has not, only use one month)\n",
    "unique_counts = df_sub.iloc[:, -12:].nunique(axis=1)\n",
    "sum(unique_counts ==1) # Amount of HH whos electricity status has not changed"
   ]
  }
 ],
 "metadata": {
  "kernelspec": {
   "display_name": "sandbox",
   "language": "python",
   "name": "python3"
  },
  "language_info": {
   "codemirror_mode": {
    "name": "ipython",
    "version": 3
   },
   "file_extension": ".py",
   "mimetype": "text/x-python",
   "name": "python",
   "nbconvert_exporter": "python",
   "pygments_lexer": "ipython3",
   "version": "3.12.9"
  }
 },
 "nbformat": 4,
 "nbformat_minor": 2
}
